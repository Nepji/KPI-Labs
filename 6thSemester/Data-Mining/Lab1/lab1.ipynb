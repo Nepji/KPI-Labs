{
 "cells": [
  {
   "cell_type": "code",
   "execution_count": 2,
   "id": "3d29fcc5-ab0e-4383-8c00-508123b22ca6",
   "metadata": {},
   "outputs": [
    {
     "name": "stdout",
     "output_type": "stream",
     "text": [
      "G:7.95\n",
      "K:7.57\n",
      "N:1.83\n",
      "P:8.78\n",
      "Q:5.25\n",
      "R:6.12\n",
      "A:3.00\n"
     ]
    }
   ],
   "source": [
    "import sqlite3\n",
    "db_filename = 'source/cereals-1.db'\n",
    "\n",
    "conn = sqlite3.connect(db_filename)\n",
    "c = conn.cursor()\n",
    "c.execute(\"SELECT DISTINCT Manufacturer FROM cereals\")\n",
    "for manufacturer in c.fetchall():\n",
    "    c.execute(\"SELECT avg(Sugars) FROM cereals WHERE Manufacturer='{0}'\" .format(manufacturer[0]))\n",
    "    print (\"{0}:{1:.2f}\".format( manufacturer[0],c.fetchall()[0][0]))\n",
    "\n",
    "conn.close()\n"
   ]
  },
  {
   "cell_type": "code",
   "execution_count": null,
   "id": "b91dbcb8-ba0d-4cd6-ab80-74cdeb216876",
   "metadata": {},
   "outputs": [],
   "source": []
  }
 ],
 "metadata": {
  "kernelspec": {
   "display_name": "Python 3 (ipykernel)",
   "language": "python",
   "name": "python3"
  },
  "language_info": {
   "codemirror_mode": {
    "name": "ipython",
    "version": 3
   },
   "file_extension": ".py",
   "mimetype": "text/x-python",
   "name": "python",
   "nbconvert_exporter": "python",
   "pygments_lexer": "ipython3",
   "version": "3.12.2"
  }
 },
 "nbformat": 4,
 "nbformat_minor": 5
}
