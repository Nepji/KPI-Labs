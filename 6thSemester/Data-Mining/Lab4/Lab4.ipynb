{
 "cells": [
  {
   "cell_type": "markdown",
   "id": "5bf33d22-4c98-4cbb-bef9-3a6fd1f01310",
   "metadata": {},
   "source": [
    "# K Means"
   ]
  },
  {
   "cell_type": "code",
   "execution_count": 3,
   "id": "2ba4cfb8-fb20-422b-beb8-422e7cd0ba5d",
   "metadata": {},
   "outputs": [
    {
     "name": "stdout",
     "output_type": "stream",
     "text": [
      "0.9943820224719101\n",
      "0.9887640449438202\n",
      "0.9831460674157303\n",
      "0.9775280898876404\n",
      "0.9719101123595506\n",
      "0.9662921348314607\n",
      "0.9606741573033708\n",
      "0.9550561797752809\n"
     ]
    }
   ],
   "source": [
    "import numpy\n",
    "import scipy\n",
    "import sklearn\n",
    "from sklearn.datasets import load_wine\n",
    "from scipy.cluster.vq import kmeans2, whiten\n",
    "\n",
    "[data, target] = load_wine(return_X_y=True)\n",
    "whitened = whiten(data)\n",
    "\n",
    "start = [whitened[0], whitened[int(len(whitened)/2)], whitened[len(whitened)-1]]\n",
    "[centroid, label] = kmeans2(whitened, start)\n",
    "\n",
    "errors = 0.0\n",
    "for i in range(len(label)):\n",
    " if target[i] != label[i]:\n",
    "  errors += 1\n",
    "  acc = (len(data) - errors)/len(data)\n",
    "  print (acc)\n"
   ]
  },
  {
   "cell_type": "markdown",
   "id": "fb6ac927-0e5c-4019-aaa0-2d1f222d121b",
   "metadata": {},
   "source": [
    "# Decision Tree"
   ]
  },
  {
   "cell_type": "code",
   "execution_count": 4,
   "id": "8d0ea99d-099a-43cb-aa3e-e6d7566d70dd",
   "metadata": {},
   "outputs": [
    {
     "name": "stdout",
     "output_type": "stream",
     "text": [
      "Result: [2]\n"
     ]
    }
   ],
   "source": [
    "import numpy\n",
    "import scipy\n",
    "from sklearn.datasets import load_wine\n",
    "from sklearn import tree\n",
    "\n",
    "[data, target] = load_wine(return_X_y=True)\n",
    "\n",
    "data_train = data[0:len(data)-2]\n",
    "target_train = target[0:len(data)-2]\n",
    "\n",
    "dtc = tree.DecisionTreeClassifier()\n",
    "dtc = dtc.fit(data_train, target_train)\n",
    "print (\"Result:\", dtc.predict(data[len(data)-1].reshape(1,-1)))"
   ]
  },
  {
   "cell_type": "markdown",
   "id": "c870a4e9-82d9-4021-b58b-a92be5cb02a8",
   "metadata": {},
   "source": [
    "# Support Vector Machines (SVM)"
   ]
  },
  {
   "cell_type": "code",
   "execution_count": 1,
   "id": "618f5fa5-7664-4b5a-bf91-36d214651262",
   "metadata": {},
   "outputs": [
    {
     "name": "stdout",
     "output_type": "stream",
     "text": [
      "Result: [2]\n"
     ]
    }
   ],
   "source": [
    "import numpy\n",
    "import scipy\n",
    "from sklearn.datasets import load_wine\n",
    "from sklearn import svm\n",
    "\n",
    "[data, target] = load_wine(return_X_y=True)\n",
    "data_train = data[0:len(data)-2]\n",
    "target_train = target[0:len(target)-2]\n",
    "\n",
    "\n",
    "#clf = svm.LinearSVC(dual=True, max_iter=1000000000)\n",
    "clf = svm.LinearSVC(dual=False, max_iter=9999)\n",
    "clf.fit(data_train, target_train)\n",
    "print (\"Result:\", clf.predict(data[len(data)-1].reshape(1,-1)))\n",
    "\n",
    "\n"
   ]
  },
  {
   "cell_type": "code",
   "execution_count": null,
   "id": "9400c1ac-1830-4167-b14c-a0206b3a8470",
   "metadata": {},
   "outputs": [],
   "source": []
  }
 ],
 "metadata": {
  "kernelspec": {
   "display_name": "Python 3 (ipykernel)",
   "language": "python",
   "name": "python3"
  },
  "language_info": {
   "codemirror_mode": {
    "name": "ipython",
    "version": 3
   },
   "file_extension": ".py",
   "mimetype": "text/x-python",
   "name": "python",
   "nbconvert_exporter": "python",
   "pygments_lexer": "ipython3",
   "version": "3.12.2"
  }
 },
 "nbformat": 4,
 "nbformat_minor": 5
}
